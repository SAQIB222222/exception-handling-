{
 "cells": [
  {
   "cell_type": "markdown",
   "id": "df15fed0-e042-43ba-b0e5-49ad7e392945",
   "metadata": {},
   "source": [
    "Q1\n"
   ]
  },
  {
   "cell_type": "markdown",
   "id": "36c2ad59-f54c-4211-809a-00148fb1157f",
   "metadata": {},
   "source": [
    "In Python, an exception is an event that occurs during the execution of a program that disrupts the normal flow of the program's instructions. When an exception is encountered, Python interrupts the normal flow of the program and jumps to the nearest exception handler. Python has many built-in exceptions, such as ZeroDivisionError, TypeError, ValueError, and so on. Exceptions can be divided into two types: standard exceptions and custom exceptions.\n",
    "\n",
    "The difference between Exceptions and Syntax Errors:\n",
    "\n",
    "Exceptions and Syntax Errors are both errors that can occur in Python, but they are different types of errors. A syntax error occurs when the Python interpreter cannot parse a line of code because it violates the language syntax rules. In contrast, an exception occurs when the interpreter can parse the code but encounters a problem during the program's execution, such as a division by zero, a file not found, or a type error."
   ]
  },
  {
   "cell_type": "markdown",
   "id": "05174f26-6e79-44d8-9624-ddcd9bf49ba2",
   "metadata": {},
   "source": [
    "Q2"
   ]
  },
  {
   "cell_type": "markdown",
   "id": "5f66aec3-7e81-4493-a82c-f59d0c963685",
   "metadata": {},
   "source": [
    "When an exception is not handled, the program terminates and displays an error message that includes the type of the exception, the error message, and a traceback of the call stack. The traceback indicates the sequence of function calls that led to the exception. For example, consider the following code that attempts to divide a number by zero:\n",
    "\n",
    "\n"
   ]
  },
  {
   "cell_type": "code",
   "execution_count": 5,
   "id": "c70fcc10-1eaa-4ce6-85a4-1b2058023aa9",
   "metadata": {},
   "outputs": [
    {
     "ename": "ZeroDivisionError",
     "evalue": "division by zero",
     "output_type": "error",
     "traceback": [
      "\u001b[0;31m---------------------------------------------------------------------------\u001b[0m",
      "\u001b[0;31mZeroDivisionError\u001b[0m                         Traceback (most recent call last)",
      "Cell \u001b[0;32mIn[5], line 3\u001b[0m\n\u001b[1;32m      1\u001b[0m x \u001b[38;5;241m=\u001b[39m \u001b[38;5;241m5\u001b[39m\n\u001b[1;32m      2\u001b[0m y \u001b[38;5;241m=\u001b[39m \u001b[38;5;241m0\u001b[39m\n\u001b[0;32m----> 3\u001b[0m result \u001b[38;5;241m=\u001b[39m \u001b[43mx\u001b[49m\u001b[43m \u001b[49m\u001b[38;5;241;43m/\u001b[39;49m\u001b[43m \u001b[49m\u001b[43my\u001b[49m\n",
      "\u001b[0;31mZeroDivisionError\u001b[0m: division by zero"
     ]
    }
   ],
   "source": [
    "x = 5\n",
    "y = 0\n",
    "result = x / y"
   ]
  },
  {
   "cell_type": "markdown",
   "id": "9d6e3a59-22c9-4514-8c9e-274ebc4f913c",
   "metadata": {},
   "source": [
    "This code will raise a ZeroDivisionError, which is an exception that occurs when you try to divide by zero. If we don't handle this exception, the program will terminate and display an error message that looks like this:"
   ]
  },
  {
   "cell_type": "markdown",
   "id": "81e227df-3712-4a7a-addb-b52dad43791c",
   "metadata": {},
   "source": [
    "Q3"
   ]
  },
  {
   "cell_type": "markdown",
   "id": "83859085-ac61-4b90-8db2-28c72db34047",
   "metadata": {},
   "source": [
    "In Python, we use the try, except, else, and finally statements to handle exceptions.\n",
    "\n",
    "try: This statement is used to enclose the code that might raise an exception.\n",
    "except: This statement is used to catch and handle exceptions.\n",
    "else: This statement is executed when the try block does not raise an exception.\n",
    "finally: This statement is always executed, regardless of whether an exception was raised or not.\n",
    "Example:"
   ]
  },
  {
   "cell_type": "code",
   "execution_count": 6,
   "id": "0eecfe33-acd6-4b62-a203-a3aef2f114af",
   "metadata": {},
   "outputs": [
    {
     "name": "stdin",
     "output_type": "stream",
     "text": [
      "Enter a number:  3\n",
      "Enter another number:  3\n"
     ]
    },
    {
     "name": "stdout",
     "output_type": "stream",
     "text": [
      "The result is: 1.0\n",
      "No exceptions were raised.\n",
      "This will always execute.\n"
     ]
    }
   ],
   "source": [
    "try:\n",
    "    x = int(input(\"Enter a number: \"))\n",
    "    y = int(input(\"Enter another number: \"))\n",
    "    result = x / y\n",
    "    print(\"The result is:\", result)\n",
    "except ValueError:\n",
    "    print(\"Please enter a valid number.\")\n",
    "except ZeroDivisionError:\n",
    "    print(\"Cannot divide by zero.\")\n",
    "else:\n",
    "    print(\"No exceptions were raised.\")\n",
    "finally:\n",
    "    print(\"This will always execute.\")\n"
   ]
  },
  {
   "cell_type": "markdown",
   "id": "f5a8d9f9-90fd-4765-9aa1-f8c824122820",
   "metadata": {},
   "source": [
    "Q4"
   ]
  },
  {
   "cell_type": "code",
   "execution_count": 7,
   "id": "62156cc5-5147-4918-8087-0b2cf82df68e",
   "metadata": {},
   "outputs": [
    {
     "name": "stdin",
     "output_type": "stream",
     "text": [
      "Enter a number:  5\n",
      "Enter another number:  5\n"
     ]
    },
    {
     "name": "stdout",
     "output_type": "stream",
     "text": [
      "The result is: 1.0\n",
      "This will always execute.\n"
     ]
    }
   ],
   "source": [
    "try:\n",
    "    x = int(input(\"Enter a number: \"))\n",
    "    y = int(input(\"Enter another number: \"))\n",
    "    result = x / y\n",
    "except ValueError:\n",
    "    print(\"Please enter a valid number.\")\n",
    "except ZeroDivisionError:\n",
    "    print(\"Cannot divide by zero.\")\n",
    "else:\n",
    "    print(\"The result is:\", result)\n",
    "finally:\n",
    "    print(\"This will always execute.\")\n"
   ]
  },
  {
   "cell_type": "markdown",
   "id": "adf840b7-04f9-4a4c-b445-86137452070b",
   "metadata": {},
   "source": [
    "Q5"
   ]
  },
  {
   "cell_type": "markdown",
   "id": "8c405d3d-712f-45bb-a755-2caa32e546f4",
   "metadata": {},
   "source": [
    "Custom exceptions, also known as user-defined exceptions, are exceptions that are defined by the user rather than built into the Python language. In Python, you can create custom exceptions by defining a new class that inherits from the built-in Exception class.\n",
    "\n",
    "Custom exceptions are useful when you want to create an exception that is specific to your application or module. By defining custom exceptions, you can provide more detailed and specific error messages to the user, which can help with debugging and troubleshooting."
   ]
  },
  {
   "cell_type": "code",
   "execution_count": 8,
   "id": "c2a52069-3e7f-4f5a-8732-346db74fcb63",
   "metadata": {},
   "outputs": [
    {
     "name": "stdout",
     "output_type": "stream",
     "text": [
      "Cannot divide by zero\n"
     ]
    }
   ],
   "source": [
    "class CustomException(Exception):\n",
    "    pass\n",
    "\n",
    "def divide(x, y):\n",
    "    if y == 0:\n",
    "        raise CustomException(\"Cannot divide by zero\")\n",
    "    else:\n",
    "        return x / y\n",
    "\n",
    "try:\n",
    "    result = divide(10, 0)\n",
    "except CustomException as e:\n",
    "    print(e)\n"
   ]
  },
  {
   "cell_type": "markdown",
   "id": "c98c83f4-0755-465e-91dc-c24c151c25fa",
   "metadata": {},
   "source": [
    "n this example, we define a custom exception called CustomException that inherits from the built-in Exception class. We then define a function called divide that takes two arguments and raises a CustomException if the second argument is zero. Finally, we call the divide function with arguments that will trigger the custom exception, and we catch the exception and print the error message.\n",
    "\n",
    "By defining a custom exception, we can provide a more informative error message that tells the user exactly what went wrong and how to fix it. This can be especially useful in larger applications or libraries where there may be many different types of exceptions and error conditions.\n",
    "\n",
    "\n",
    "\n"
   ]
  },
  {
   "cell_type": "markdown",
   "id": "37dc97a6-1389-4032-aa21-e0a3a13454db",
   "metadata": {},
   "source": [
    "Q6"
   ]
  },
  {
   "cell_type": "code",
   "execution_count": null,
   "id": "da167d80-c819-44b8-8d77-b45be4a64ba8",
   "metadata": {},
   "outputs": [],
   "source": []
  }
 ],
 "metadata": {
  "kernelspec": {
   "display_name": "Python 3 (ipykernel)",
   "language": "python",
   "name": "python3"
  },
  "language_info": {
   "codemirror_mode": {
    "name": "ipython",
    "version": 3
   },
   "file_extension": ".py",
   "mimetype": "text/x-python",
   "name": "python",
   "nbconvert_exporter": "python",
   "pygments_lexer": "ipython3",
   "version": "3.10.8"
  }
 },
 "nbformat": 4,
 "nbformat_minor": 5
}
